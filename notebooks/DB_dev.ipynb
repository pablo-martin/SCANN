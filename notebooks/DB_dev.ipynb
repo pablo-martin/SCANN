{
 "cells": [
  {
   "cell_type": "markdown",
   "metadata": {},
   "source": [
    "# DB\n",
    "### lets make a simple DB\n",
    "- im gonna use sqlite since it's already included in python and we have a very simple use case\n",
    "- i need a user_session table, which gathers all data relevant to how the user interacted with the recommendations\n",
    "- this table will be consumed by:  \n",
    "    1) monitoring model performance to track clicks and likes  \n",
    "    2) build user_feedback \"matrix\" for ranker  \n",
    "    3) ANN retraining pipeline - my idea is to rebuild/re-train the index once it's seen 100 (or so) new contracts  \n",
    "- because of limitations of ANNOY library (from Spotify) i may need to have another table that maps contract_id to hashed embedding, although i think sqlite doesn't allow non-integer primary keys so i may have do use something else and be pretty hacky about it"
   ]
  },
  {
   "cell_type": "code",
   "execution_count": 47,
   "metadata": {},
   "outputs": [],
   "source": [
    "import sqlite3\n",
    "from datetime import datetime\n",
    "import json\n",
    "from typing import Dict\n",
    "\n",
    "# not needed - just need toy data\n",
    "import numpy as np\n",
    "embedding  = [np.random.random() * 175 for _ in range(150)]\n"
   ]
  },
  {
   "cell_type": "code",
   "execution_count": 26,
   "metadata": {},
   "outputs": [
    {
     "data": {
      "text/plain": [
       "<sqlite3.Cursor at 0x7f98e047ee30>"
      ]
     },
     "execution_count": 26,
     "metadata": {},
     "output_type": "execute_result"
    }
   ],
   "source": [
    "conn = sqlite3.connect(\":memory:\")\n",
    "c = conn.cursor()\n",
    "c.execute(\"\"\"CREATE TABLE user_session (\n",
    "            user_id integer,\n",
    "            date string,\n",
    "            user_contract_id integer,\n",
    "            clicked1 integer,\n",
    "            clicked2 integer,\n",
    "            clicked3 integer,\n",
    "            clicked4 integer,\n",
    "            clicked5 integer,\n",
    "            like1 integer,\n",
    "            like2 integer,\n",
    "            like3 integer,\n",
    "            like4 integer,\n",
    "            like5 integer,\n",
    "            contract_id1 integer,\n",
    "            contract_id2 integer,\n",
    "            contract_id3 integer,\n",
    "            contract_id4 integer,\n",
    "            contract_id5 integer,\n",
    "            embedding text)\"\"\")"
   ]
  },
  {
   "cell_type": "code",
   "execution_count": 56,
   "metadata": {},
   "outputs": [],
   "source": [
    "sql_insert = \"\"\"\n",
    "    INSERT INTO user_session VALUES (\n",
    "        :user_id, \n",
    "        :date, \n",
    "        :user_contract_id, \n",
    "        :clicked1, \n",
    "        :clicked2, \n",
    "        :clicked3, \n",
    "        :clicked4, \n",
    "        :clicked5, \n",
    "        :like1, \n",
    "        :like2, \n",
    "        :like3, \n",
    "        :like4, \n",
    "        :like5, \n",
    "        :contract_id1, \n",
    "        :contract_id2, \n",
    "        :contract_id3, \n",
    "        :contract_id4, \n",
    "        :contract_id5, \n",
    "        :embedding)\n",
    "        \"\"\"\n",
    "sample = {\n",
    "    \"user_id\" : 1,\n",
    "    \"date\" : datetime.now().isoformat(),\n",
    "    \"user_contract_id\" : -1,\n",
    "    \"clicked1\" : 1,\n",
    "    \"clicked2\" :1,\n",
    "    \"clicked3\": 0,\n",
    "    \"clicked4\" :0,\n",
    "    \"clicked5\" :0,\n",
    "    \"like1\" :-1,\n",
    "    \"like2\" :1,\n",
    "    \"like3\"  :0,\n",
    "    \"like4\" : 0,\n",
    "    \"like5\" : 0,\n",
    "    \"contract_id1\" : 56,\n",
    "    \"contract_id2\" : 765,\n",
    "    \"contract_id3\" : 222,\n",
    "    \"contract_id4\" :  789,\n",
    "    \"contract_id5\" : 121,\n",
    "    \"embedding\" : json.dumps(embedding)\n",
    "}"
   ]
  },
  {
   "cell_type": "code",
   "execution_count": 84,
   "metadata": {},
   "outputs": [],
   "source": [
    "import os\n",
    "class UserSession:\n",
    "    def __init__(self, table_path):\n",
    "        self.conn = sqlite3.connect(table_path)\n",
    "        self.c = self.conn.cursor()\n",
    "        try:\n",
    "            self.N = self.search_db(\"SELECT COUNT(*) FROM user_session\")[0][0]\n",
    "        except:\n",
    "            self.create_table()\n",
    "\n",
    "    def create_table(self):\n",
    "        self.c.execute(\"\"\"CREATE TABLE user_session (\n",
    "            user_id integer,\n",
    "            date string,\n",
    "            user_contract_id integer,\n",
    "            clicked1 integer,\n",
    "            clicked2 integer,\n",
    "            clicked3 integer,\n",
    "            clicked4 integer,\n",
    "            clicked5 integer,\n",
    "            like1 integer,\n",
    "            like2 integer,\n",
    "            like3 integer,\n",
    "            like4 integer,\n",
    "            like5 integer,\n",
    "            contract_id1 integer,\n",
    "            contract_id2 integer,\n",
    "            contract_id3 integer,\n",
    "            contract_id4 integer,\n",
    "            contract_id5 integer,\n",
    "            embedding text)\"\"\")\n",
    "        \n",
    "    def insert_db(self, user_session_dict: Dict):\n",
    "        with self.conn:\n",
    "            self.c.execute(sql_insert, sample)\n",
    "            \n",
    "    def search_db(self, sql_query: str):\n",
    "        with self.conn:\n",
    "            self.c.execute(sql_query)\n",
    "            return self.c.fetchall()\n",
    "            \n",
    "    def close_connection(self):\n",
    "        self.conn.close()"
   ]
  },
  {
   "cell_type": "code",
   "execution_count": 85,
   "metadata": {},
   "outputs": [],
   "source": [
    "US = UserSession(\"user_session.db\")"
   ]
  },
  {
   "cell_type": "code",
   "execution_count": 87,
   "metadata": {},
   "outputs": [],
   "source": [
    "US.insert_db(sample)"
   ]
  },
  {
   "cell_type": "code",
   "execution_count": 88,
   "metadata": {},
   "outputs": [
    {
     "data": {
      "text/plain": [
       "2"
      ]
     },
     "execution_count": 88,
     "metadata": {},
     "output_type": "execute_result"
    }
   ],
   "source": [
    "US.search_db(\"SELECT COUNT(*) FROM user_session\")[0][0]"
   ]
  },
  {
   "cell_type": "code",
   "execution_count": 86,
   "metadata": {},
   "outputs": [
    {
     "data": {
      "text/plain": [
       "1"
      ]
     },
     "execution_count": 86,
     "metadata": {},
     "output_type": "execute_result"
    }
   ],
   "source": [
    "US.N"
   ]
  },
  {
   "cell_type": "markdown",
   "metadata": {},
   "source": [
    "### let's try building hash_emb lookup"
   ]
  },
  {
   "cell_type": "code",
   "execution_count": 89,
   "metadata": {},
   "outputs": [
    {
     "data": {
      "text/plain": [
       "<sqlite3.Cursor at 0x7f98e047ee30>"
      ]
     },
     "execution_count": 89,
     "metadata": {},
     "output_type": "execute_result"
    }
   ],
   "source": [
    "c.execute(\"\"\"CREATE TABLE embed_hash_lookup (hash_emb string PRIMARY KEY, contract_id integer)\"\"\")"
   ]
  },
  {
   "cell_type": "code",
   "execution_count": 104,
   "metadata": {},
   "outputs": [
    {
     "name": "stdout",
     "output_type": "stream",
     "text": [
      "[(40001,)]\n"
     ]
    }
   ],
   "source": [
    "with conn:\n",
    "    c.execute(\"SELECT COUNT(*) FROM embed_hash_lookup\")\n",
    "    print(c.fetchall())"
   ]
  },
  {
   "cell_type": "code",
   "execution_count": 98,
   "metadata": {},
   "outputs": [],
   "source": [
    "def insert_here(user_session_dict):\n",
    "    with conn:\n",
    "        c.execute(\"INSERT INTO embed_hash_lookup VALUES (:hash_emb, :contract_id)\", user_session_dict)"
   ]
  },
  {
   "cell_type": "code",
   "execution_count": 22,
   "metadata": {},
   "outputs": [],
   "source": [
    "import hashlib\n",
    "import numpy as np\n",
    "\n",
    "def array_to_hashlib(arr):\n",
    "    emb_str = \"\".join([str(_fl) for _fl in arr])\n",
    "    return hashlib.sha256(bytes(emb_str, encoding='utf-8')).hexdigest()\n",
    "def generator():\n",
    "    embedding  = [np.random.random() * 175 for _ in range(150)]\n",
    "    return {\n",
    "        \"hash_emb\": array_to_hashlib(embedding),\n",
    "        \"contract_id\": np.random.randint(-1, 123456)\n",
    "    }"
   ]
  },
  {
   "cell_type": "code",
   "execution_count": 121,
   "metadata": {},
   "outputs": [
    {
     "name": "stdout",
     "output_type": "stream",
     "text": [
      "[]\n",
      "CPU times: user 200 µs, sys: 124 µs, total: 324 µs\n",
      "Wall time: 241 µs\n"
     ]
    }
   ],
   "source": [
    "%%time\n",
    "with conn:\n",
    "    c.execute(\"SELECT contract_id FROM embed_hash_lookup WHERE hash_emb='1e4923ac24237c582d9ccac07bcd9c6701dc98e9d391eb564fb7de5f1b2f176f1'\")\n",
    "    res = c.fetchall()\n",
    "    print(res)"
   ]
  },
  {
   "cell_type": "code",
   "execution_count": 1,
   "metadata": {},
   "outputs": [],
   "source": [
    "from db import EmbedHashLookup\n",
    "EHL = EmbedHashLookup(\"embhash.db\")"
   ]
  },
  {
   "cell_type": "code",
   "execution_count": 2,
   "metadata": {},
   "outputs": [],
   "source": []
  },
  {
   "cell_type": "code",
   "execution_count": null,
   "metadata": {},
   "outputs": [],
   "source": [
    "%%time\n",
    "for _ in range(1000000):\n",
    "    EHL.insert_db(generator())"
   ]
  },
  {
   "cell_type": "code",
   "execution_count": 2,
   "metadata": {},
   "outputs": [
    {
     "data": {
      "text/plain": [
       "321173"
      ]
     },
     "execution_count": 2,
     "metadata": {},
     "output_type": "execute_result"
    }
   ],
   "source": [
    "EHL.search_db(\"SELECT COUNT(*) FROM embed_hash_lookup\")[0][0]"
   ]
  },
  {
   "cell_type": "markdown",
   "metadata": {},
   "source": [
    "### lets compare latency for primary key vs not"
   ]
  },
  {
   "cell_type": "code",
   "execution_count": 3,
   "metadata": {},
   "outputs": [
    {
     "name": "stdout",
     "output_type": "stream",
     "text": [
      "CPU times: user 13.5 ms, sys: 6.83 ms, total: 20.3 ms\n",
      "Wall time: 19.2 ms\n"
     ]
    },
    {
     "data": {
      "text/plain": [
       "[('84ed4281c69155c865162fec04ac91abb38d411a005cd1c4bfda38d31a7b4434',)]"
      ]
     },
     "execution_count": 3,
     "metadata": {},
     "output_type": "execute_result"
    }
   ],
   "source": [
    "%%time\n",
    "EHL.search_db(\"SELECT hash_emb FROM embed_hash_lookup WHERE contract_id=22\")"
   ]
  },
  {
   "cell_type": "code",
   "execution_count": 4,
   "metadata": {},
   "outputs": [
    {
     "name": "stdout",
     "output_type": "stream",
     "text": [
      "CPU times: user 432 µs, sys: 346 µs, total: 778 µs\n",
      "Wall time: 460 µs\n"
     ]
    },
    {
     "data": {
      "text/plain": [
       "[(22,)]"
      ]
     },
     "execution_count": 4,
     "metadata": {},
     "output_type": "execute_result"
    }
   ],
   "source": [
    "%%time\n",
    "EHL.search_db(\"SELECT contract_id FROM embed_hash_lookup WHERE hash_emb='84ed4281c69155c865162fec04ac91abb38d411a005cd1c4bfda38d31a7b4434'\")"
   ]
  },
  {
   "cell_type": "code",
   "execution_count": 5,
   "metadata": {},
   "outputs": [
    {
     "name": "stdout",
     "output_type": "stream",
     "text": [
      "CPU times: user 263 µs, sys: 194 µs, total: 457 µs\n",
      "Wall time: 300 µs\n"
     ]
    },
    {
     "data": {
      "text/plain": [
       "22"
      ]
     },
     "execution_count": 5,
     "metadata": {},
     "output_type": "execute_result"
    }
   ],
   "source": [
    "%%time\n",
    "EHL.find_contract_id('84ed4281c69155c865162fec04ac91abb38d411a005cd1c4bfda38d31a7b4434')"
   ]
  },
  {
   "cell_type": "markdown",
   "metadata": {},
   "source": [
    "- huge difference"
   ]
  },
  {
   "cell_type": "markdown",
   "metadata": {},
   "source": [
    "# consolidate"
   ]
  },
  {
   "cell_type": "code",
   "execution_count": 105,
   "metadata": {},
   "outputs": [],
   "source": [
    "import sqlite3\n",
    "from typing import Dict\n",
    "\n",
    "class SmartContractDB:\n",
    "    def __init__(self, table_path):\n",
    "        self.conn = sqlite3.connect(table_path)\n",
    "        self.c = self.conn.cursor()\n",
    "        self.table_name = \"smart_contracts\"\n",
    "        exists = self.search_db(\"SELECT name FROM sqlite_master WHERE type='table' AND name='{}';\".format(self.table_name))\n",
    "        if len(exists) == 0:\n",
    "            self.create_table()\n",
    "\n",
    "    \n",
    "    def create_table(self):\n",
    "        self.c.execute(\"\"\"CREATE TABLE {} (\n",
    "            hash_emb string PRIMARY KEY, \n",
    "            contract_id integer, \n",
    "            contract_name text,\n",
    "            contract_history text,\n",
    "            embedding text\n",
    "            )\"\"\".format(self.table_name))\n",
    "        \n",
    "    def insert_db(self, hashemb_contract_id: Dict):\n",
    "        with self.conn:\n",
    "            self.c.execute(\"\"\"INSERT INTO smart_contracts VALUES (\n",
    "                :hash_emb, \n",
    "                :contract_id,\n",
    "                :contract_name,\n",
    "                :contract_history,\n",
    "                :embedding\n",
    "                )\"\"\", hashemb_contract_id)\n",
    "            \n",
    "    def find_contract_id(self, hash_emb) -> int:\n",
    "        with self.conn:\n",
    "            self.c.execute(\"SELECT contract_id FROM smart_contracts WHERE hash_emb=:hash_emb\", {\"hash_emb\": hash_emb})\n",
    "            result = self.c.fetchall()\n",
    "            try:\n",
    "                return result[0][0]\n",
    "            except IndexError:\n",
    "                return -1\n",
    "            \n",
    "        \n",
    "    def find_contract_history(self, hash_emb) -> Dict:\n",
    "        with self.conn:\n",
    "            self.c.execute(\"SELECT contract_history FROM smart_contracts WHERE hash_emb=:hash_emb\", {\"hash_emb\": hash_emb})\n",
    "            result = self.c.fetchall()\n",
    "            try:\n",
    "                return {int(k): v for k, v in json.loads(result[0][0]).items()}\n",
    "            except IndexError:\n",
    "                empty_history = dict()\n",
    "                return empty_history\n",
    "            \n",
    "    def find_contract_name(self, contract_id):\n",
    "        with self.conn:\n",
    "            self.c.execute(\"SELECT contract_name FROM smart_contracts WHERE contract_id=:contract_id\", {\"contract_id\": contract_id})\n",
    "            result = self.c.fetchall()\n",
    "            try:\n",
    "                return result[0][0]\n",
    "            except IndexError:\n",
    "                return \"\"\n",
    "\n",
    "    def append_history(self, hash_emb: str, new_contract_info: Dict):\n",
    "        \"\"\"\n",
    "        if embedding is in the DB, it updates the contract history\n",
    "        to-do: if it is not present, it creates a new entry for it and updates contract history\n",
    "\n",
    "        \"\"\"\n",
    "        embedding_history = self.find_contract_history(hash_present)\n",
    "        embedding_history.update(new_contract_info)\n",
    "        jsonify_history = json.dumps(embedding_history)\n",
    "        with self.conn:\n",
    "            self.c.execute(\"UPDATE smart_contracts SET contract_history=:contract_history WHERE hash_emb=:hash_emb\",\n",
    "                          {\"hash_emb\": hash_emb, \"contract_history\": jsonify_history})\n",
    "        \n",
    "    def search_db(self, sql_query: str):\n",
    "        with self.conn:\n",
    "            self.c.execute(sql_query)\n",
    "            return self.c.fetchall()\n",
    "    \n",
    "    def close_connection(self):\n",
    "        self.conn.close()"
   ]
  },
  {
   "cell_type": "code",
   "execution_count": 122,
   "metadata": {},
   "outputs": [],
   "source": [
    "SCDB = SmartContractDB(\"smart_contracts.db\")"
   ]
  },
  {
   "cell_type": "code",
   "execution_count": 125,
   "metadata": {},
   "outputs": [
    {
     "data": {
      "text/plain": [
       "[(0, 'hash_emb', 'string', 0, None, 1),\n",
       " (1, 'contract_id', 'INTEGER', 0, None, 0),\n",
       " (2, 'contract_name', 'TEXT', 0, None, 0),\n",
       " (3, 'contract_history', 'TEXT', 0, None, 0),\n",
       " (4, 'embedding', 'TEXT', 0, None, 0)]"
      ]
     },
     "execution_count": 125,
     "metadata": {},
     "output_type": "execute_result"
    }
   ],
   "source": [
    "SCDB.search_db(\"PRAGMA table_info(smart_contracts);\")"
   ]
  },
  {
   "cell_type": "code",
   "execution_count": 111,
   "metadata": {},
   "outputs": [
    {
     "data": {
      "text/plain": [
       "0"
      ]
     },
     "execution_count": 111,
     "metadata": {},
     "output_type": "execute_result"
    }
   ],
   "source": [
    "SCDB.search_db(\"SELECT COUNT(*) FROM smart_contracts\")[0][0]"
   ]
  },
  {
   "cell_type": "code",
   "execution_count": 112,
   "metadata": {},
   "outputs": [
    {
     "data": {
      "text/plain": [
       "{'hash_emb': '0487d3abc523dfd2b6dfbac68fa4b525dd965e364fdaa0ebf5c854957af631a8',\n",
       " 'contract_id': 51558,\n",
       " 'contract_history': '{\"110927\": 0, \"97468\": 1}',\n",
       " 'contract_name': 'cool82.sol',\n",
       " 'embedding': None}"
      ]
     },
     "execution_count": 112,
     "metadata": {},
     "output_type": "execute_result"
    }
   ],
   "source": [
    "import json\n",
    "def generator():\n",
    "    embedding  = [np.random.random() * 175 for _ in range(150)]\n",
    "    gen = {\n",
    "        \"hash_emb\": array_to_hashlib(embedding),\n",
    "        \"contract_id\": np.random.randint(-1, 123456),\n",
    "        \"contract_history\": {\n",
    "            int(_synth_id) : np.random.randint(-2, 3)\n",
    "            for _synth_id in np.random.randint(-1, 123456, size=np.random.randint(1,5))\n",
    "        },\n",
    "        \"contract_name\": \"cool{}.sol\".format(np.random.randint(1,100)),\n",
    "        \"embedding\": None\n",
    "    }\n",
    "    gen[\"contract_history\"] = json.dumps(gen[\"contract_history\"])\n",
    "    return gen\n",
    "\n",
    "generator()"
   ]
  },
  {
   "cell_type": "markdown",
   "metadata": {},
   "source": [
    "### populate"
   ]
  },
  {
   "cell_type": "code",
   "execution_count": 121,
   "metadata": {},
   "outputs": [
    {
     "name": "stdout",
     "output_type": "stream",
     "text": [
      "CPU times: user 8.77 s, sys: 13.1 s, total: 21.8 s\n",
      "Wall time: 24.3 s\n"
     ]
    }
   ],
   "source": [
    "%%time\n",
    "for _ in range(30000):\n",
    "    SCDB.insert_db(generator())"
   ]
  },
  {
   "cell_type": "markdown",
   "metadata": {},
   "source": [
    "### case 1 - embedding is in DB"
   ]
  },
  {
   "cell_type": "code",
   "execution_count": 80,
   "metadata": {},
   "outputs": [
    {
     "name": "stdout",
     "output_type": "stream",
     "text": [
      "92236 {80147: -2, 65170: -1, 83381: 0, 90796: -2}\n"
     ]
    }
   ],
   "source": [
    "hash_present = \"218c9c32f7fdf9c6741181910a31e582d76adee59cb2d99e92a0b91c7e642d00\"\n",
    "\n",
    "contract_id = SCDB.find_contract_id(hash_present)\n",
    "embedding_history = SCDB.find_contract_history(hash_present)\n",
    "print(contract_id, embedding_history)"
   ]
  },
  {
   "cell_type": "markdown",
   "metadata": {},
   "source": [
    "### case 2 - embedding not in DB"
   ]
  },
  {
   "cell_type": "code",
   "execution_count": 82,
   "metadata": {},
   "outputs": [
    {
     "name": "stdout",
     "output_type": "stream",
     "text": [
      "-1 {}\n"
     ]
    }
   ],
   "source": [
    "hash_not_present = \"218c9c32f7sfdf9c6741181910a31e582d76adee59cb2d99e92a0b91c7e642d00\"\n",
    "\n",
    "contract_id = SCDB.find_contract_id(hash_not_present)\n",
    "embedding_history = SCDB.find_contract_history(hash_not_present)\n",
    "print(contract_id, embedding_history)"
   ]
  },
  {
   "cell_type": "code",
   "execution_count": 83,
   "metadata": {},
   "outputs": [
    {
     "name": "stdout",
     "output_type": "stream",
     "text": [
      "13.1 µs ± 159 ns per loop (mean ± std. dev. of 7 runs, 100,000 loops each)\n"
     ]
    }
   ],
   "source": [
    "%%timeit\n",
    "embedding_history = SCDB.find_contract_history(hash_not_present)\n"
   ]
  },
  {
   "cell_type": "code",
   "execution_count": 84,
   "metadata": {},
   "outputs": [
    {
     "name": "stdout",
     "output_type": "stream",
     "text": [
      "19.8 µs ± 192 ns per loop (mean ± std. dev. of 7 runs, 100,000 loops each)\n"
     ]
    }
   ],
   "source": [
    "%%timeit\n",
    "embedding_history = SCDB.find_contract_history(hash_present)\n"
   ]
  },
  {
   "cell_type": "code",
   "execution_count": 85,
   "metadata": {},
   "outputs": [
    {
     "name": "stdout",
     "output_type": "stream",
     "text": [
      "640K\t./smart_contracts.db\n"
     ]
    }
   ],
   "source": [
    "! du -ah | grep smart_contracts"
   ]
  },
  {
   "cell_type": "markdown",
   "metadata": {},
   "source": [
    "### how do we add to the history\n",
    "### case 1 - embedding in DB"
   ]
  },
  {
   "cell_type": "code",
   "execution_count": 103,
   "metadata": {},
   "outputs": [
    {
     "name": "stdout",
     "output_type": "stream",
     "text": [
      "{80147: -2, 65170: -1, 83381: 0, 90796: -2, 77: -1}\n"
     ]
    },
    {
     "data": {
      "text/plain": [
       "{80147: -2, 65170: -1, 83381: 0, 90796: -2, 77: -1}"
      ]
     },
     "execution_count": 103,
     "metadata": {},
     "output_type": "execute_result"
    }
   ],
   "source": [
    "print(SCDB.find_contract_history(hash_present))\n",
    "SCDB.append_history(hash_present, {77: -1})\n",
    "SCDB.find_contract_history(hash_present)"
   ]
  },
  {
   "cell_type": "markdown",
   "metadata": {},
   "source": [
    "### case 2 - embedding not in DB"
   ]
  },
  {
   "cell_type": "code",
   "execution_count": 95,
   "metadata": {},
   "outputs": [
    {
     "name": "stdout",
     "output_type": "stream",
     "text": [
      "{}\n"
     ]
    },
    {
     "data": {
      "text/plain": [
       "{}"
      ]
     },
     "execution_count": 95,
     "metadata": {},
     "output_type": "execute_result"
    }
   ],
   "source": [
    "print(SCDB.find_contract_history(hash_not_present))\n",
    "SCDB.append_history(hash_not_present, {77: -1})\n",
    "SCDB.find_contract_history(hash_not_present)"
   ]
  },
  {
   "cell_type": "code",
   "execution_count": 96,
   "metadata": {},
   "outputs": [
    {
     "data": {
      "text/plain": [
       "-1"
      ]
     },
     "execution_count": 96,
     "metadata": {},
     "output_type": "execute_result"
    }
   ],
   "source": [
    "SCDB.find_contract_id(hash_not_present)"
   ]
  },
  {
   "cell_type": "code",
   "execution_count": null,
   "metadata": {},
   "outputs": [],
   "source": []
  }
 ],
 "metadata": {
  "kernelspec": {
   "display_name": "zeppelin",
   "language": "python",
   "name": "zeppelin"
  },
  "language_info": {
   "codemirror_mode": {
    "name": "ipython",
    "version": 3
   },
   "file_extension": ".py",
   "mimetype": "text/x-python",
   "name": "python",
   "nbconvert_exporter": "python",
   "pygments_lexer": "ipython3",
   "version": "3.9.16"
  }
 },
 "nbformat": 4,
 "nbformat_minor": 4
}
