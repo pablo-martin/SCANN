{
 "cells": [
  {
   "cell_type": "markdown",
   "metadata": {},
   "source": [
    "# Online Learning"
   ]
  },
  {
   "cell_type": "markdown",
   "metadata": {},
   "source": [
    "### mock user feedback"
   ]
  },
  {
   "cell_type": "code",
   "execution_count": 15,
   "metadata": {},
   "outputs": [],
   "source": [
    "import yaml\n",
    "\n",
    "relationship_size = 200\n",
    "entry_size = 20\n",
    "\n",
    "user_feedback = {\n",
    "    int(mock_id): {\n",
    "        int(contract_id) : int(like)\n",
    "        for contract_id, like in zip(np.random.randint(0, 100000, size=relationship_size),\n",
    "                                     np.random.randint(-2, 3, size=relationship_size))\n",
    "    }\n",
    "    for mock_id in np.random.randint(0, 100000, size=entry_size)\n",
    "}\n",
    "with open(\"user_likes.yaml\", \"w\") as f:\n",
    "    yaml.dump(user_feedback, f)\n",
    "    \n",
    "with open(\"user_likes.yaml\", \"r\") as f:\n",
    "    user_feedback = yaml.safe_load(f)\n"
   ]
  },
  {
   "cell_type": "markdown",
   "metadata": {},
   "source": [
    "### online learning"
   ]
  },
  {
   "cell_type": "code",
   "execution_count": 6,
   "metadata": {},
   "outputs": [],
   "source": [
    "import yaml\n",
    "import numpy as np\n",
    "from annoy import AnnoyIndex\n",
    "from typing import List, Dict\n",
    "\n",
    "\n",
    "ANN = AnnoyIndex(150, 'dot')\n",
    "ANN.load(\"srcc/test_10.ann\")\n",
    "    \n",
    "def embeddings_cosine_similarity(input_embedding, res: List[int]) -> Dict:\n",
    "    return {_res: cosine_similarity(input_embedding, ANN.get_item_vector(_res)) for _res in res}\n",
    "\n",
    "def double_sigmoid(x): \n",
    "    return 2/(1 + np.exp(-x)) \n",
    "\n",
    "def cosine_similarity(a, b):\n",
    "    return np.dot(a, b)/(np.linalg.norm(a)*np.linalg.norm(b))\n",
    "\n",
    "def single_access(input_embedding_id):\n",
    "    try:\n",
    "        like_history = user_feedback[input_embedding_id]\n",
    "        return like_history\n",
    "    except KeyError:\n",
    "        return dict()\n",
    "\n",
    "def rerank(cosine_similarities, likes_history):\n",
    "    out = dict()\n",
    "    for contract_id, cosine in cosine_similarities.items():\n",
    "        try:\n",
    "            reweight = cosine * double_sigmoid(likes_history[contract_id])\n",
    "        except KeyError:\n",
    "            reweight = cosine\n",
    "        out[contract_id] = reweight\n",
    "    return dict(sorted(out.items(), key=lambda tup: tup[1], reverse=True))\n",
    "\n",
    "\n",
    "def ranker(input_embedding_id, input_embedding, res):\n",
    "    cosine_similarities = embeddings_cosine_similarity(input_embedding, res)\n",
    "    likes_history = single_access(input_embedding_id)\n",
    "    return rerank(cosine_similarities, likes_history)\n",
    "\n"
   ]
  },
  {
   "cell_type": "markdown",
   "metadata": {},
   "source": [
    "### this is the input we would have\n",
    "- we don't have the embedding id a priori, for now we can simulate but we need a new strategy\n",
    "- look at hashing solution below"
   ]
  },
  {
   "cell_type": "code",
   "execution_count": null,
   "metadata": {},
   "outputs": [],
   "source": [
    "K = 5\n",
    "input_embedding = ANN.get_item_vector(input_embedding_id) # just simulating\n",
    "res = ANN.get_nns_by_vector(input_embedding, K*4, search_k=20, include_distances=False)\n",
    "ranker(input_embedding_id, input_embedding, res)"
   ]
  },
  {
   "cell_type": "markdown",
   "metadata": {},
   "source": [
    "### let's manually alter the user feedback to simulate some likes"
   ]
  },
  {
   "cell_type": "code",
   "execution_count": 140,
   "metadata": {},
   "outputs": [
    {
     "data": {
      "text/plain": [
       "{217568: 1.3353272736020532,\n",
       " 117530: 1.1319901804170318,\n",
       " 56088: 0.9300999588103345,\n",
       " 171634: 0.9055805760779316,\n",
       " 155996: 0.8495007652574565,\n",
       " 233832: 0.8313957189805125,\n",
       " 69904: 0.8291999536072038,\n",
       " 157285: 0.8256972007906522,\n",
       " 192425: 0.818605772219394,\n",
       " 175429: 0.8085693358296288,\n",
       " 68347: 0.793539159098976,\n",
       " 190502: 0.7914935205661225,\n",
       " 239469: 0.7898787608151207,\n",
       " 209273: 0.7846621402499501,\n",
       " 89438: 0.7747676084711644,\n",
       " 154353: 0.7641889763127058,\n",
       " 134617: 0.7602365126794943,\n",
       " 70325: 0.7298757246328769,\n",
       " 112583: 0.6817744812208998,\n",
       " 191777: 0.20311133470071033}"
      ]
     },
     "execution_count": 140,
     "metadata": {},
     "output_type": "execute_result"
    }
   ],
   "source": [
    "user_feedback[input_embedding_id].update({217568: 2, 191777: -2, 117530: 1})\n",
    "ranker(input_embedding_id, input_embedding, res)"
   ]
  },
  {
   "cell_type": "markdown",
   "metadata": {},
   "source": [
    "### ok, re-ranking is working"
   ]
  },
  {
   "cell_type": "code",
   "execution_count": 141,
   "metadata": {},
   "outputs": [
    {
     "data": {
      "text/plain": [
       "{117530: 1.1319901804170318,\n",
       " 217568: 1.1083170948824492,\n",
       " 56088: 0.9300999588103345,\n",
       " 171634: 0.9055805760779316,\n",
       " 155996: 0.8495007652574565,\n",
       " 233832: 0.8313957189805125,\n",
       " 69904: 0.8291999536072038,\n",
       " 157285: 0.8256972007906522,\n",
       " 192425: 0.818605772219394,\n",
       " 175429: 0.8085693358296288,\n",
       " 68347: 0.793539159098976,\n",
       " 190502: 0.7914935205661225,\n",
       " 239469: 0.7898787608151207,\n",
       " 209273: 0.7846621402499501,\n",
       " 89438: 0.7747676084711644,\n",
       " 154353: 0.7641889763127058,\n",
       " 134617: 0.7602365126794943,\n",
       " 70325: 0.7298757246328769,\n",
       " 112583: 0.6817744812208998,\n",
       " 191777: 0.45825261767182535}"
      ]
     },
     "execution_count": 141,
     "metadata": {},
     "output_type": "execute_result"
    }
   ],
   "source": [
    "user_feedback[input_embedding_id].update({217568: 1, 191777: -1})\n",
    "ranker(input_embedding_id, input_embedding, res)"
   ]
  },
  {
   "cell_type": "markdown",
   "metadata": {},
   "source": [
    "- it's very strong, 1 like will push it to the top of the list easily\n",
    "- I think this is good since we are going to have so little feedback given the task"
   ]
  },
  {
   "cell_type": "markdown",
   "metadata": {},
   "source": [
    "### how do we know for a given embedding if it's in the index?\n",
    "- annoy library doesn't return the id of itself in nearest neighbour search\n",
    "- we might have to figure out a hashing strategy and put in the DB"
   ]
  },
  {
   "cell_type": "code",
   "execution_count": 145,
   "metadata": {},
   "outputs": [
    {
     "data": {
      "text/plain": [
       "1883894426938435466"
      ]
     },
     "execution_count": 145,
     "metadata": {},
     "output_type": "execute_result"
    }
   ],
   "source": [
    "hash(sum(input_embedding))"
   ]
  },
  {
   "cell_type": "markdown",
   "metadata": {},
   "source": [
    "### build out \"DB\""
   ]
  },
  {
   "cell_type": "code",
   "execution_count": 147,
   "metadata": {},
   "outputs": [
    {
     "name": "stdout",
     "output_type": "stream",
     "text": [
      "/Users/pablo/Documents/Coding/company_challenges/OpenZeppelin\n"
     ]
    }
   ],
   "source": [
    "!pwd"
   ]
  },
  {
   "cell_type": "code",
   "execution_count": 148,
   "metadata": {},
   "outputs": [
    {
     "data": {
      "text/html": [
       "<div>\n",
       "<style scoped>\n",
       "    .dataframe tbody tr th:only-of-type {\n",
       "        vertical-align: middle;\n",
       "    }\n",
       "\n",
       "    .dataframe tbody tr th {\n",
       "        vertical-align: top;\n",
       "    }\n",
       "\n",
       "    .dataframe thead th {\n",
       "        text-align: right;\n",
       "    }\n",
       "</style>\n",
       "<table border=\"1\" class=\"dataframe\">\n",
       "  <thead>\n",
       "    <tr style=\"text-align: right;\">\n",
       "      <th></th>\n",
       "      <th>contract_path</th>\n",
       "      <th>embedding</th>\n",
       "    </tr>\n",
       "  </thead>\n",
       "  <tbody>\n",
       "    <tr>\n",
       "      <th>0</th>\n",
       "      <td>/Users/pablo/Documents/Coding/company_challeng...</td>\n",
       "      <td>[-918.1727203140035, -1907.009695449844, -863....</td>\n",
       "    </tr>\n",
       "    <tr>\n",
       "      <th>1</th>\n",
       "      <td>/Users/pablo/Documents/Coding/company_challeng...</td>\n",
       "      <td>[-2.729362176731229, -14.615228615701199, 0.98...</td>\n",
       "    </tr>\n",
       "    <tr>\n",
       "      <th>2</th>\n",
       "      <td>/Users/pablo/Documents/Coding/company_challeng...</td>\n",
       "      <td>[1093.0715518859215, -1386.3616010397673, -175...</td>\n",
       "    </tr>\n",
       "    <tr>\n",
       "      <th>3</th>\n",
       "      <td>/Users/pablo/Documents/Coding/company_challeng...</td>\n",
       "      <td>[2894.6187667399645, -362.2629002183676, -1859...</td>\n",
       "    </tr>\n",
       "    <tr>\n",
       "      <th>4</th>\n",
       "      <td>/Users/pablo/Documents/Coding/company_challeng...</td>\n",
       "      <td>[-310.338902737014, -774.37499769032, -900.542...</td>\n",
       "    </tr>\n",
       "  </tbody>\n",
       "</table>\n",
       "</div>"
      ],
      "text/plain": [
       "                                       contract_path  \\\n",
       "0  /Users/pablo/Documents/Coding/company_challeng...   \n",
       "1  /Users/pablo/Documents/Coding/company_challeng...   \n",
       "2  /Users/pablo/Documents/Coding/company_challeng...   \n",
       "3  /Users/pablo/Documents/Coding/company_challeng...   \n",
       "4  /Users/pablo/Documents/Coding/company_challeng...   \n",
       "\n",
       "                                           embedding  \n",
       "0  [-918.1727203140035, -1907.009695449844, -863....  \n",
       "1  [-2.729362176731229, -14.615228615701199, 0.98...  \n",
       "2  [1093.0715518859215, -1386.3616010397673, -175...  \n",
       "3  [2894.6187667399645, -362.2629002183676, -1859...  \n",
       "4  [-310.338902737014, -774.37499769032, -900.542...  "
      ]
     },
     "execution_count": 148,
     "metadata": {},
     "output_type": "execute_result"
    }
   ],
   "source": [
    "import os\n",
    "import pandas as pd\n",
    "\n",
    "base_dir = \"src/embeddings/\"\n",
    "\n",
    "batches = list()\n",
    "for _file in os.listdir(base_dir):\n",
    "    if os.path.basename(_file).split(\".\")[-1] == \"parquet\":\n",
    "        batches.append(pd.read_parquet(os.path.join(base_dir, _file)))\n",
    "        \n",
    "df = pd.concat(batches).reset_index(drop=True)\n",
    "df.head()"
   ]
  },
  {
   "cell_type": "code",
   "execution_count": 166,
   "metadata": {},
   "outputs": [
    {
     "name": "stdout",
     "output_type": "stream",
     "text": [
      "394515 540000\n"
     ]
    }
   ],
   "source": [
    "df[\"hash\"] = df[\"embedding\"].apply(lambda arr: hash(arr.sum()))\n",
    "n_unique = len(df[\"hash\"].unique())\n",
    "print(n_unique, df.shape[0])"
   ]
  },
  {
   "cell_type": "markdown",
   "metadata": {},
   "source": [
    "- too many collisions. let's think of another way"
   ]
  },
  {
   "cell_type": "code",
   "execution_count": 174,
   "metadata": {},
   "outputs": [
    {
     "name": "stdout",
     "output_type": "stream",
     "text": [
      "394667 540000\n",
      "CPU times: user 54.8 s, sys: 42.7 ms, total: 54.8 s\n",
      "Wall time: 54.9 s\n"
     ]
    }
   ],
   "source": [
    "%%time\n",
    "\n",
    "def silly_hash(arr):\n",
    "    return hash(\"\".join([str(_fl) for _fl in arr]))\n",
    "df[\"hash\"] = df[\"embedding\"].apply(silly_hash)\n",
    "n_unique = len(df[\"hash\"].unique())\n",
    "print(n_unique, df.shape[0])"
   ]
  },
  {
   "cell_type": "markdown",
   "metadata": {},
   "source": [
    "- that didn't work either, lets try hashlib"
   ]
  },
  {
   "cell_type": "code",
   "execution_count": 185,
   "metadata": {},
   "outputs": [
    {
     "data": {
      "text/plain": [
       "'67e7896987357c2bdba4d6be4c784c6592e1f9ff828344b6f0e177f2570a3ed8'"
      ]
     },
     "execution_count": 185,
     "metadata": {},
     "output_type": "execute_result"
    }
   ],
   "source": [
    "import hashlib\n",
    "\n",
    "def array_to_hashlib(arr):\n",
    "    emb_str = \"\".join([str(_fl) for _fl in arr])\n",
    "    return hashlib.sha256(bytes(emb_str, encoding='utf-8')).hexdigest()\n",
    "\n",
    "array_to_hashlib(arr)"
   ]
  },
  {
   "cell_type": "code",
   "execution_count": 187,
   "metadata": {},
   "outputs": [],
   "source": [
    "df[\"hashlib\"] = df[\"embedding\"].apply(array_to_hashlib)"
   ]
  },
  {
   "cell_type": "code",
   "execution_count": 186,
   "metadata": {},
   "outputs": [
    {
     "name": "stdout",
     "output_type": "stream",
     "text": [
      "104 µs ± 1.48 µs per loop (mean ± std. dev. of 7 runs, 10,000 loops each)\n"
     ]
    }
   ],
   "source": [
    "%%timeit\n",
    "array_to_hashlib(arr)"
   ]
  },
  {
   "cell_type": "code",
   "execution_count": 188,
   "metadata": {},
   "outputs": [
    {
     "data": {
      "text/plain": [
       "c3baa45aff6319ebe72db3252563268c01ecddd4e6b61249e0d95120a24d6cd2    647\n",
       "b8cb9fe66d7910f7167fb975c79e442e3f4179898c00a3e5d274cfbb67eb8a1a    546\n",
       "902a402f93ddcb1f4c815170e6046fbff48179c09865a1c40c11c3cc213a5efb    520\n",
       "f243a44c5802408ff7f7c6575d3e872c6bff6cd027c4a1e01772d8757c77a979    451\n",
       "1932b7959bdf57c7b81a1fa09c8815f16e256632dabcf0048239abdabfda3bcf    421\n",
       "                                                                   ... \n",
       "fe0e3676db4e7cd9bd915c0f6a8f36acb152284f19437378802c914132ccb3c7      1\n",
       "d348eeb79ee1d1df7183d59bd62923ac1ee3534a36fdb3645222303d4a4c26b5      1\n",
       "58b9b2c3031a41fdd446278b152d8f9fb94de7416dc3c00c884bedbca99b0e35      1\n",
       "c1b5bc997ae528ecc7e0f1bac4e94be72da4de75337c2998b2cf3c7cedc71da5      1\n",
       "5b14a3fa93116e69adda7c70802286a0f3d50b5e3f4ec5c223cc6d10f0f6c78a      1\n",
       "Name: hashlib, Length: 394667, dtype: int64"
      ]
     },
     "execution_count": 188,
     "metadata": {},
     "output_type": "execute_result"
    }
   ],
   "source": [
    "df[\"hashlib\"].value_counts()"
   ]
  },
  {
   "cell_type": "markdown",
   "metadata": {},
   "source": [
    "- still collisions!"
   ]
  },
  {
   "cell_type": "code",
   "execution_count": 195,
   "metadata": {},
   "outputs": [
    {
     "data": {
      "text/plain": [
       "array(['/Users/pablo/Documents/Coding/company_challenges/OpenZeppelin/smart-contract-sanctuary-ethereum/contracts/rinkeby/78/787be48981D71E99F9cD1050A16ED39de62Af74C_InitializableImmutableAdminUpgradeabilityProxy.sol',\n",
       "       '/Users/pablo/Documents/Coding/company_challenges/OpenZeppelin/smart-contract-sanctuary-ethereum/contracts/rinkeby/8b/8bc3Bc29F0Fdd778148A2C5EB21Af2f8d1C81b43_InitializableImmutableAdminUpgradeabilityProxy.sol'],\n",
       "      dtype=object)"
      ]
     },
     "execution_count": 195,
     "metadata": {},
     "output_type": "execute_result"
    }
   ],
   "source": [
    "samples = df.query(\"hashlib=='c3baa45aff6319ebe72db3252563268c01ecddd4e6b61249e0d95120a24d6cd2'\")[\"contract_path\"].values[:2]\n",
    "samples"
   ]
  },
  {
   "cell_type": "code",
   "execution_count": 196,
   "metadata": {},
   "outputs": [],
   "source": [
    "def read_contract(contract_path : str) -> str:\n",
    "    with open(contract_path, \"r\") as f:\n",
    "        return f.read()"
   ]
  },
  {
   "cell_type": "code",
   "execution_count": 198,
   "metadata": {},
   "outputs": [
    {
     "data": {
      "text/plain": [
       "True"
      ]
     },
     "execution_count": 198,
     "metadata": {},
     "output_type": "execute_result"
    }
   ],
   "source": [
    "read_contract(samples[1]) == read_contract(samples[0])"
   ]
  },
  {
   "cell_type": "markdown",
   "metadata": {},
   "source": [
    "- there's tons of duplicated smart contracts, however ANN is not returning itself or any duplicates.\n",
    "- yeah in the index/db train pipeline we are going to want to de-duplicate\n",
    "- looks like around 25% of contracts in the repo are exact replicas"
   ]
  },
  {
   "cell_type": "markdown",
   "metadata": {},
   "source": [
    "### want to keep contract_path for downloading + embedding hash"
   ]
  },
  {
   "cell_type": "code",
   "execution_count": 200,
   "metadata": {},
   "outputs": [],
   "source": [
    "tmp_contract_path = df.loc[3, \"contract_path\"]\n"
   ]
  },
  {
   "cell_type": "code",
   "execution_count": 219,
   "metadata": {},
   "outputs": [],
   "source": [
    "import requests\n",
    "\n",
    "raw_github_base = \"https://raw.githubusercontent.com/tintinweb/smart-contract-sanctuary-ethereum/master/{}\"\n",
    "sanctuary_base = \"/Users/pablo/Documents/Coding/company_challenges/OpenZeppelin/smart-contract-sanctuary-ethereum/\"\n",
    "\n",
    "def get_contract_name(full_path_contract):\n",
    "    return full_path_contract.replace(sanctuary_base, \"\")\n",
    "\n",
    "def get_contract_text(path_contract):\n",
    "    requests.get(raw_github_base.format(contract_name)).text"
   ]
  },
  {
   "cell_type": "code",
   "execution_count": 3,
   "metadata": {},
   "outputs": [
    {
     "data": {
      "text/html": [
       "<div>\n",
       "<style scoped>\n",
       "    .dataframe tbody tr th:only-of-type {\n",
       "        vertical-align: middle;\n",
       "    }\n",
       "\n",
       "    .dataframe tbody tr th {\n",
       "        vertical-align: top;\n",
       "    }\n",
       "\n",
       "    .dataframe thead th {\n",
       "        text-align: right;\n",
       "    }\n",
       "</style>\n",
       "<table border=\"1\" class=\"dataframe\">\n",
       "  <thead>\n",
       "    <tr style=\"text-align: right;\">\n",
       "      <th></th>\n",
       "      <th>hashlib</th>\n",
       "      <th>contract_path</th>\n",
       "      <th>embedding</th>\n",
       "    </tr>\n",
       "    <tr>\n",
       "      <th>contract_id</th>\n",
       "      <th></th>\n",
       "      <th></th>\n",
       "      <th></th>\n",
       "    </tr>\n",
       "  </thead>\n",
       "  <tbody>\n",
       "    <tr>\n",
       "      <th>0</th>\n",
       "      <td>67e7896987357c2bdba4d6be4c784c6592e1f9ff828344...</td>\n",
       "      <td>contracts/rinkeby/47/4769e7f852b820f2482615dec...</td>\n",
       "      <td>[-918.1727203140035, -1907.009695449844, -863....</td>\n",
       "    </tr>\n",
       "    <tr>\n",
       "      <th>1</th>\n",
       "      <td>2ba3e496bca5d8bfc7fbdfbba616d578825fc7f38cde8e...</td>\n",
       "      <td>contracts/rinkeby/47/477b39f60683e2B908282838F...</td>\n",
       "      <td>[-2.729362176731229, -14.615228615701199, 0.98...</td>\n",
       "    </tr>\n",
       "    <tr>\n",
       "      <th>2</th>\n",
       "      <td>bbe3b93072d4f8cfb449115c2b7f9b7b031ea55ab9c152...</td>\n",
       "      <td>contracts/rinkeby/47/47f7543246bb52981f7a074ed...</td>\n",
       "      <td>[1093.0715518859215, -1386.3616010397673, -175...</td>\n",
       "    </tr>\n",
       "    <tr>\n",
       "      <th>3</th>\n",
       "      <td>b80173634d8b23421595161eec82a7259543506be67b20...</td>\n",
       "      <td>contracts/rinkeby/47/47d2c426bd65312653650a8c0...</td>\n",
       "      <td>[2894.6187667399645, -362.2629002183676, -1859...</td>\n",
       "    </tr>\n",
       "    <tr>\n",
       "      <th>4</th>\n",
       "      <td>8726cf05958a6f76e3d6a94895ea9cf112b35c11f2eccf...</td>\n",
       "      <td>contracts/rinkeby/47/478ce89f8dcdf3e79b4010df7...</td>\n",
       "      <td>[-310.338902737014, -774.37499769032, -900.542...</td>\n",
       "    </tr>\n",
       "    <tr>\n",
       "      <th>...</th>\n",
       "      <td>...</td>\n",
       "      <td>...</td>\n",
       "      <td>...</td>\n",
       "    </tr>\n",
       "    <tr>\n",
       "      <th>579995</th>\n",
       "      <td>29262987aa41c3cad037eb1d549f92259ea23aa915845e...</td>\n",
       "      <td>contracts/ropsten/e5/e5c09742fa5dc8e6c842eb358...</td>\n",
       "      <td>[443.84467166662216, -446.2305064126849, -26.8...</td>\n",
       "    </tr>\n",
       "    <tr>\n",
       "      <th>579996</th>\n",
       "      <td>b1b6a8d6a9b9492656c487d81e65f6d9bbe55e4c74ba71...</td>\n",
       "      <td>contracts/ropsten/e5/e5283bee782643d40a13b4146...</td>\n",
       "      <td>[575.1903692749329, -897.6308063026518, -980.0...</td>\n",
       "    </tr>\n",
       "    <tr>\n",
       "      <th>579997</th>\n",
       "      <td>15661d23d4c56acfd08a9e7e9c55f1d39861c210933e0f...</td>\n",
       "      <td>contracts/ropsten/e5/E579370ac67F15E3c99b7aC14...</td>\n",
       "      <td>[1820.0796929262578, 316.1446752306074, -1378....</td>\n",
       "    </tr>\n",
       "    <tr>\n",
       "      <th>579998</th>\n",
       "      <td>b8e7a64cb702cbcc5e57d0fea8f8d63bdd4af462500e63...</td>\n",
       "      <td>contracts/ropsten/e5/E581C6C80ec7C855967B1F573...</td>\n",
       "      <td>[334.43862503487617, -1307.8066804911941, -251...</td>\n",
       "    </tr>\n",
       "    <tr>\n",
       "      <th>579999</th>\n",
       "      <td>5b14a3fa93116e69adda7c70802286a0f3d50b5e3f4ec5...</td>\n",
       "      <td>contracts/ropsten/e5/e5463eb9345351924146b59d4...</td>\n",
       "      <td>[237.22066255286336, -380.6390305040404, -138....</td>\n",
       "    </tr>\n",
       "  </tbody>\n",
       "</table>\n",
       "<p>416444 rows × 3 columns</p>\n",
       "</div>"
      ],
      "text/plain": [
       "                                                       hashlib  \\\n",
       "contract_id                                                      \n",
       "0            67e7896987357c2bdba4d6be4c784c6592e1f9ff828344...   \n",
       "1            2ba3e496bca5d8bfc7fbdfbba616d578825fc7f38cde8e...   \n",
       "2            bbe3b93072d4f8cfb449115c2b7f9b7b031ea55ab9c152...   \n",
       "3            b80173634d8b23421595161eec82a7259543506be67b20...   \n",
       "4            8726cf05958a6f76e3d6a94895ea9cf112b35c11f2eccf...   \n",
       "...                                                        ...   \n",
       "579995       29262987aa41c3cad037eb1d549f92259ea23aa915845e...   \n",
       "579996       b1b6a8d6a9b9492656c487d81e65f6d9bbe55e4c74ba71...   \n",
       "579997       15661d23d4c56acfd08a9e7e9c55f1d39861c210933e0f...   \n",
       "579998       b8e7a64cb702cbcc5e57d0fea8f8d63bdd4af462500e63...   \n",
       "579999       5b14a3fa93116e69adda7c70802286a0f3d50b5e3f4ec5...   \n",
       "\n",
       "                                                 contract_path  \\\n",
       "contract_id                                                      \n",
       "0            contracts/rinkeby/47/4769e7f852b820f2482615dec...   \n",
       "1            contracts/rinkeby/47/477b39f60683e2B908282838F...   \n",
       "2            contracts/rinkeby/47/47f7543246bb52981f7a074ed...   \n",
       "3            contracts/rinkeby/47/47d2c426bd65312653650a8c0...   \n",
       "4            contracts/rinkeby/47/478ce89f8dcdf3e79b4010df7...   \n",
       "...                                                        ...   \n",
       "579995       contracts/ropsten/e5/e5c09742fa5dc8e6c842eb358...   \n",
       "579996       contracts/ropsten/e5/e5283bee782643d40a13b4146...   \n",
       "579997       contracts/ropsten/e5/E579370ac67F15E3c99b7aC14...   \n",
       "579998       contracts/ropsten/e5/E581C6C80ec7C855967B1F573...   \n",
       "579999       contracts/ropsten/e5/e5463eb9345351924146b59d4...   \n",
       "\n",
       "                                                     embedding  \n",
       "contract_id                                                     \n",
       "0            [-918.1727203140035, -1907.009695449844, -863....  \n",
       "1            [-2.729362176731229, -14.615228615701199, 0.98...  \n",
       "2            [1093.0715518859215, -1386.3616010397673, -175...  \n",
       "3            [2894.6187667399645, -362.2629002183676, -1859...  \n",
       "4            [-310.338902737014, -774.37499769032, -900.542...  \n",
       "...                                                        ...  \n",
       "579995       [443.84467166662216, -446.2305064126849, -26.8...  \n",
       "579996       [575.1903692749329, -897.6308063026518, -980.0...  \n",
       "579997       [1820.0796929262578, 316.1446752306074, -1378....  \n",
       "579998       [334.43862503487617, -1307.8066804911941, -251...  \n",
       "579999       [237.22066255286336, -380.6390305040404, -138....  \n",
       "\n",
       "[416444 rows x 3 columns]"
      ]
     },
     "execution_count": 3,
     "metadata": {},
     "output_type": "execute_result"
    }
   ],
   "source": [
    "import os\n",
    "import pandas as pd\n",
    "import hashlib\n",
    "\n",
    "sanctuary_base = \"/Users/pablo/Documents/Coding/company_challenges/OpenZeppelin/smart-contract-sanctuary-ethereum/\"\n",
    "\n",
    "def array_to_hashlib(arr):\n",
    "    emb_str = \"\".join([str(_fl) for _fl in arr])\n",
    "    return hashlib.sha256(bytes(emb_str, encoding='utf-8')).hexdigest()\n",
    "\n",
    "\n",
    "def get_contract_name(full_path_contract):\n",
    "    return full_path_contract.replace(sanctuary_base, \"\")\n",
    "\n",
    "\n",
    "base_dir = \"src/embeddings/\"\n",
    "\n",
    "batches = list()\n",
    "for _file in os.listdir(base_dir):\n",
    "    if os.path.basename(_file).split(\".\")[-1] == \"parquet\":\n",
    "        batches.append(pd.read_parquet(os.path.join(base_dir, _file)))\n",
    "        \n",
    "df = (\n",
    "    pd.concat(batches)\n",
    "    .reset_index(drop=True)\n",
    ")\n",
    "df[\"hashlib\"] = df[\"embedding\"].apply(array_to_hashlib)\n",
    "df[\"contract_path\"] = df[\"contract_path\"].apply(get_contract_name)\n",
    "df = (\n",
    "    df[[\"hashlib\", \"contract_path\", \"embedding\"]]\n",
    "    .drop_duplicates(subset=[\"hashlib\"])\n",
    "    .rename_axis(\"contract_id\")\n",
    ")\n",
    "df"
   ]
  },
  {
   "cell_type": "code",
   "execution_count": 10,
   "metadata": {},
   "outputs": [],
   "source": [
    "embhash_to_id = (\n",
    "    df\n",
    "    .reset_index()\n",
    "    [[\"hashlib\", \"contract_id\"]]\n",
    "    .set_index(\"hashlib\")\n",
    "    [\"contract_id\"]\n",
    "    .to_dict()\n",
    ")"
   ]
  },
  {
   "cell_type": "code",
   "execution_count": 53,
   "metadata": {},
   "outputs": [
    {
     "data": {
      "text/plain": [
       "{171634: 0.9745001895117084,\n",
       " 56088: 0.9681444812693083,\n",
       " 191777: 0.9619913273942239,\n",
       " 233832: 0.952983225278823,\n",
       " 155996: 0.9523178044431038,\n",
       " 69904: 0.9522339662657148,\n",
       " 157285: 0.9484288954175107,\n",
       " 175429: 0.9460155491971705,\n",
       " 68347: 0.9423112713734029,\n",
       " 190502: 0.9345894857976565,\n",
       " 209273: 0.9280944289357173,\n",
       " 210466: 0.9276763279659529,\n",
       " 239469: 0.92531509994335,\n",
       " 89438: 0.9229566217267036,\n",
       " 134617: 0.9223624365202353,\n",
       " 117530: 0.9203674254208029,\n",
       " 217568: 0.9121757965156764,\n",
       " 154353: 0.9055211354727617,\n",
       " 70325: 0.8499681898575423,\n",
       " 112583: 0.8245985926037704}"
      ]
     },
     "execution_count": 53,
     "metadata": {},
     "output_type": "execute_result"
    }
   ],
   "source": [
    "def get_input_embedding_id(input_embedding):\n",
    "    hashed_embedding = array_to_hashlib(input_embedding)\n",
    "    try:\n",
    "        return embhash_to_id[hashed_embedding]\n",
    "    except KeyError:\n",
    "        return -1\n",
    "\n",
    "\n",
    "def ranker(input_embedding, res):\n",
    "    cosine_similarities = embeddings_cosine_similarity(input_embedding, res)\n",
    "    \n",
    "    input_embedding_id = get_input_embedding_id(input_embedding)\n",
    "    \n",
    "    likes_history = single_access(input_embedding_id)\n",
    "    return rerank(cosine_similarities, likes_history)\n",
    "\n",
    "\n",
    "K = 5\n",
    "input_embedding = np.array(ANN.get_item_vector(22)) # just simulating\n",
    "res = ANN.get_nns_by_vector(input_embedding, K*4, search_k=20, include_distances=False)\n",
    "ranker(input_embedding, res)\n",
    "\n",
    "\n"
   ]
  },
  {
   "cell_type": "code",
   "execution_count": 55,
   "metadata": {},
   "outputs": [],
   "source": [
    "\n",
    "ranked_NN = ranker(input_embedding, res)\n"
   ]
  },
  {
   "cell_type": "code",
   "execution_count": null,
   "metadata": {},
   "outputs": [],
   "source": []
  }
 ],
 "metadata": {
  "kernelspec": {
   "display_name": "zeppelin",
   "language": "python",
   "name": "zeppelin"
  },
  "language_info": {
   "codemirror_mode": {
    "name": "ipython",
    "version": 3
   },
   "file_extension": ".py",
   "mimetype": "text/x-python",
   "name": "python",
   "nbconvert_exporter": "python",
   "pygments_lexer": "ipython3",
   "version": "3.9.16"
  }
 },
 "nbformat": 4,
 "nbformat_minor": 4
}
